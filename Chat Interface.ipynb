{
 "cells": [
  {
   "cell_type": "code",
   "execution_count": 3,
   "id": "cd6e98e4-0668-48fa-87c6-f451afc7ef0a",
   "metadata": {},
   "outputs": [],
   "source": [
    "from dotenv import load_dotenv\n",
    "import os\n",
    "import requests\n",
    "from bs4 import BeautifulSoup\n",
    "import gradio as gr\n",
    "from openai import OpenAI\n",
    "import anthropic\n",
    "import google.generativeai"
   ]
  },
  {
   "cell_type": "code",
   "execution_count": 5,
   "id": "7f2cb595-8f10-4a3d-8980-ae6f62a8fa6b",
   "metadata": {},
   "outputs": [
    {
     "name": "stdout",
     "output_type": "stream",
     "text": [
      "OpenAI API Key exists and begins sk-proj-\n",
      "Anthropic API Key exists and begins sk-ant-\n",
      "Google API Key exists and begins AIzaSyCp\n"
     ]
    }
   ],
   "source": [
    "# Load environment variables in a file called .env\n",
    "# Print the key prefixes to help with any debugging\n",
    "\n",
    "load_dotenv(override=True)\n",
    "openai_api_key = os.getenv('OPENAI_API_KEY')\n",
    "anthropic_api_key = os.getenv('ANTHROPIC_API_KEY')\n",
    "google_api_key = os.getenv('GOOGLE_API_KEY')\n",
    "\n",
    "if openai_api_key:\n",
    "    print(f\"OpenAI API Key exists and begins {openai_api_key[:8]}\")\n",
    "else:\n",
    "    print(\"OpenAI API Key not set\")\n",
    "    \n",
    "if anthropic_api_key:\n",
    "    print(f\"Anthropic API Key exists and begins {anthropic_api_key[:7]}\")\n",
    "else:\n",
    "    print(\"Anthropic API Key not set\")\n",
    "\n",
    "if google_api_key:\n",
    "    print(f\"Google API Key exists and begins {google_api_key[:8]}\")\n",
    "else:\n",
    "    print(\"Google API Key not set\")"
   ]
  },
  {
   "cell_type": "code",
   "execution_count": 6,
   "id": "adfe8e7c-b2fe-4ab2-9e73-2fb8820ae64f",
   "metadata": {},
   "outputs": [],
   "source": [
    "openai = OpenAI()\n",
    "claude = anthropic.Anthropic()\n",
    "google.generativeai.configure()"
   ]
  },
  {
   "cell_type": "code",
   "execution_count": 8,
   "id": "2a782f9a-9dd7-4078-8c3c-1900e3ddbd83",
   "metadata": {},
   "outputs": [],
   "source": [
    "system_prompt =\"You are a helpful assistant\""
   ]
  },
  {
   "cell_type": "code",
   "execution_count": 15,
   "id": "e8194b4b-d878-4b7f-a031-cf7805714c8e",
   "metadata": {},
   "outputs": [],
   "source": [
    "def chat(message,history):\n",
    "    messages = [{'role':'system','content':system_prompt}]\n",
    "    for user_message,assistant_message in history:\n",
    "        messages.append({'role':'user','content':user_message})\n",
    "        messages.append({'role':'assistant','content':assistant_message})\n",
    "    messages.append({'role':'user','content':message})\n",
    "\n",
    "    print(\"History is :\")\n",
    "    print(history)\n",
    "    print(\"And messages are:\")\n",
    "    print(messages)\n",
    "\n",
    "    stream = openai.chat.completions.create(\n",
    "        messages = messages,\n",
    "        model ='gpt-4o-mini',\n",
    "        stream = True\n",
    "    )\n",
    "\n",
    "    response =''\n",
    "    for chunk in stream:\n",
    "        response += chunk.choices[0].delta.content or ''\n",
    "        response = response.replace('```','').replace('markdown','')\n",
    "        yield response"
   ]
  },
  {
   "cell_type": "code",
   "execution_count": null,
   "id": "ccf014cb-f21d-41cd-855c-caab6a0ee431",
   "metadata": {},
   "outputs": [],
   "source": [
    "gr.ChatInterface(fn = chat).launch(share=True)"
   ]
  }
 ],
 "metadata": {
  "kernelspec": {
   "display_name": "Python 3 (ipykernel)",
   "language": "python",
   "name": "python3"
  },
  "language_info": {
   "codemirror_mode": {
    "name": "ipython",
    "version": 3
   },
   "file_extension": ".py",
   "mimetype": "text/x-python",
   "name": "python",
   "nbconvert_exporter": "python",
   "pygments_lexer": "ipython3",
   "version": "3.11.13"
  }
 },
 "nbformat": 4,
 "nbformat_minor": 5
}
